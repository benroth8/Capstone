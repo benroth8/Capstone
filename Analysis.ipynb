{
 "cells": [
  {
   "cell_type": "markdown",
   "metadata": {},
   "source": [
    "# Email Spam Classifier"
   ]
  },
  {
   "cell_type": "code",
   "execution_count": 54,
   "metadata": {},
   "outputs": [],
   "source": [
    "import pandas as pd\n",
    "import nltk\n",
    "from sklearn.naive_bayes import MultinomialNB\n",
    "from sklearn.linear_model import LogisticRegression\n",
    "from sklearn.tree import DecisionTreeClassifier\n",
    "from nltk.stem import PorterStemmer, WordNetLemmatizer\n",
    "from nltk import word_tokenize\n",
    "from sklearn.feature_extraction.text import CountVectorizer, TfidfVectorizer\n",
    "from sklearn.pipeline import Pipeline \n",
    "from sklearn.model_selection import train_test_split, GridSearchCV\n",
    "import seaborn as sns\n",
    "import matplotlib.pyplot as plt\n",
    "from sklearn.metrics import confusion_matrix, f1_score, ConfusionMatrixDisplay"
   ]
  },
  {
   "cell_type": "markdown",
   "metadata": {},
   "source": [
    "## Load and preprocess the data "
   ]
  },
  {
   "cell_type": "code",
   "execution_count": 13,
   "metadata": {},
   "outputs": [],
   "source": [
    "df = pd.read_csv('data/completeSpamAssassin.csv')"
   ]
  },
  {
   "cell_type": "code",
   "execution_count": 14,
   "metadata": {},
   "outputs": [
    {
     "data": {
      "text/html": [
       "<div>\n",
       "<style scoped>\n",
       "    .dataframe tbody tr th:only-of-type {\n",
       "        vertical-align: middle;\n",
       "    }\n",
       "\n",
       "    .dataframe tbody tr th {\n",
       "        vertical-align: top;\n",
       "    }\n",
       "\n",
       "    .dataframe thead th {\n",
       "        text-align: right;\n",
       "    }\n",
       "</style>\n",
       "<table border=\"1\" class=\"dataframe\">\n",
       "  <thead>\n",
       "    <tr style=\"text-align: right;\">\n",
       "      <th></th>\n",
       "      <th>Unnamed: 0</th>\n",
       "      <th>Body</th>\n",
       "      <th>Label</th>\n",
       "    </tr>\n",
       "  </thead>\n",
       "  <tbody>\n",
       "    <tr>\n",
       "      <th>0</th>\n",
       "      <td>0</td>\n",
       "      <td>\\nSave up to 70% on Life Insurance.\\nWhy Spend...</td>\n",
       "      <td>1</td>\n",
       "    </tr>\n",
       "    <tr>\n",
       "      <th>1</th>\n",
       "      <td>1</td>\n",
       "      <td>1) Fight The Risk of Cancer!\\nhttp://www.adcli...</td>\n",
       "      <td>1</td>\n",
       "    </tr>\n",
       "    <tr>\n",
       "      <th>2</th>\n",
       "      <td>2</td>\n",
       "      <td>1) Fight The Risk of Cancer!\\nhttp://www.adcli...</td>\n",
       "      <td>1</td>\n",
       "    </tr>\n",
       "    <tr>\n",
       "      <th>3</th>\n",
       "      <td>3</td>\n",
       "      <td>##############################################...</td>\n",
       "      <td>1</td>\n",
       "    </tr>\n",
       "    <tr>\n",
       "      <th>4</th>\n",
       "      <td>4</td>\n",
       "      <td>I thought you might like these:\\n1) Slim Down ...</td>\n",
       "      <td>1</td>\n",
       "    </tr>\n",
       "  </tbody>\n",
       "</table>\n",
       "</div>"
      ],
      "text/plain": [
       "   Unnamed: 0                                               Body  Label\n",
       "0           0  \\nSave up to 70% on Life Insurance.\\nWhy Spend...      1\n",
       "1           1  1) Fight The Risk of Cancer!\\nhttp://www.adcli...      1\n",
       "2           2  1) Fight The Risk of Cancer!\\nhttp://www.adcli...      1\n",
       "3           3  ##############################################...      1\n",
       "4           4  I thought you might like these:\\n1) Slim Down ...      1"
      ]
     },
     "execution_count": 14,
     "metadata": {},
     "output_type": "execute_result"
    }
   ],
   "source": [
    "df.head()"
   ]
  },
  {
   "cell_type": "code",
   "execution_count": 15,
   "metadata": {},
   "outputs": [],
   "source": [
    "# Drop unnecessary column\n",
    "df = df.drop('Unnamed: 0', axis=1)\n",
    "df['Body'] = df['Body'].astype(str)"
   ]
  },
  {
   "cell_type": "code",
   "execution_count": 16,
   "metadata": {},
   "outputs": [
    {
     "name": "stdout",
     "output_type": "stream",
     "text": [
      "<class 'pandas.core.frame.DataFrame'>\n",
      "RangeIndex: 6046 entries, 0 to 6045\n",
      "Data columns (total 2 columns):\n",
      " #   Column  Non-Null Count  Dtype \n",
      "---  ------  --------------  ----- \n",
      " 0   Body    6046 non-null   object\n",
      " 1   Label   6046 non-null   int64 \n",
      "dtypes: int64(1), object(1)\n",
      "memory usage: 94.6+ KB\n"
     ]
    }
   ],
   "source": [
    "df.info()"
   ]
  },
  {
   "cell_type": "code",
   "execution_count": 17,
   "metadata": {},
   "outputs": [],
   "source": [
    "def stemmer(text):\n",
    "    if isinstance(text, str):  # Ensure text is a string\n",
    "        stemmer = PorterStemmer()\n",
    "        return ' '.join([stemmer.stem(word) for word in word_tokenize(text)])\n",
    "    return text\n",
    "\n",
    "def lemmatizer(text):\n",
    "    if isinstance(text, str):  # Ensure text is a string\n",
    "        lemmatizer = WordNetLemmatizer()\n",
    "        return ' '.join([lemmatizer.lemmatize(word) for word in word_tokenize(text)])\n",
    "    return text"
   ]
  },
  {
   "cell_type": "code",
   "execution_count": 18,
   "metadata": {},
   "outputs": [
    {
     "data": {
      "text/html": [
       "<div>\n",
       "<style scoped>\n",
       "    .dataframe tbody tr th:only-of-type {\n",
       "        vertical-align: middle;\n",
       "    }\n",
       "\n",
       "    .dataframe tbody tr th {\n",
       "        vertical-align: top;\n",
       "    }\n",
       "\n",
       "    .dataframe thead th {\n",
       "        text-align: right;\n",
       "    }\n",
       "</style>\n",
       "<table border=\"1\" class=\"dataframe\">\n",
       "  <thead>\n",
       "    <tr style=\"text-align: right;\">\n",
       "      <th></th>\n",
       "      <th>Body</th>\n",
       "      <th>Label</th>\n",
       "    </tr>\n",
       "  </thead>\n",
       "  <tbody>\n",
       "    <tr>\n",
       "      <th>0</th>\n",
       "      <td>save up to 70 % on life insur . whi spend more...</td>\n",
       "      <td>1</td>\n",
       "    </tr>\n",
       "    <tr>\n",
       "      <th>1</th>\n",
       "      <td>1 ) fight the risk of cancer ! http : //www.ad...</td>\n",
       "      <td>1</td>\n",
       "    </tr>\n",
       "    <tr>\n",
       "      <th>2</th>\n",
       "      <td>1 ) fight the risk of cancer ! http : //www.ad...</td>\n",
       "      <td>1</td>\n",
       "    </tr>\n",
       "    <tr>\n",
       "      <th>3</th>\n",
       "      <td># # # # # # # # # # # # # # # # # # # # # # # ...</td>\n",
       "      <td>1</td>\n",
       "    </tr>\n",
       "    <tr>\n",
       "      <th>4</th>\n",
       "      <td>I thought you might like these : 1 ) slim down...</td>\n",
       "      <td>1</td>\n",
       "    </tr>\n",
       "    <tr>\n",
       "      <th>...</th>\n",
       "      <td>...</td>\n",
       "      <td>...</td>\n",
       "    </tr>\n",
       "    <tr>\n",
       "      <th>6041</th>\n",
       "      <td>empti</td>\n",
       "      <td>0</td>\n",
       "    </tr>\n",
       "    <tr>\n",
       "      <th>6042</th>\n",
       "      <td>___ ___ ___ /\\ \\ /\\ \\ /\\ \\ ___ | : : \\ \\ \\ : \\...</td>\n",
       "      <td>0</td>\n",
       "    </tr>\n",
       "    <tr>\n",
       "      <th>6043</th>\n",
       "      <td>IN thi issue:01 . reader write 02 . extens sea...</td>\n",
       "      <td>0</td>\n",
       "    </tr>\n",
       "    <tr>\n",
       "      <th>6044</th>\n",
       "      <td>empti</td>\n",
       "      <td>0</td>\n",
       "    </tr>\n",
       "    <tr>\n",
       "      <th>6045</th>\n",
       "      <td>empti</td>\n",
       "      <td>0</td>\n",
       "    </tr>\n",
       "  </tbody>\n",
       "</table>\n",
       "<p>6046 rows × 2 columns</p>\n",
       "</div>"
      ],
      "text/plain": [
       "                                                   Body  Label\n",
       "0     save up to 70 % on life insur . whi spend more...      1\n",
       "1     1 ) fight the risk of cancer ! http : //www.ad...      1\n",
       "2     1 ) fight the risk of cancer ! http : //www.ad...      1\n",
       "3     # # # # # # # # # # # # # # # # # # # # # # # ...      1\n",
       "4     I thought you might like these : 1 ) slim down...      1\n",
       "...                                                 ...    ...\n",
       "6041                                              empti      0\n",
       "6042  ___ ___ ___ /\\ \\ /\\ \\ /\\ \\ ___ | : : \\ \\ \\ : \\...      0\n",
       "6043  IN thi issue:01 . reader write 02 . extens sea...      0\n",
       "6044                                              empti      0\n",
       "6045                                              empti      0\n",
       "\n",
       "[6046 rows x 2 columns]"
      ]
     },
     "execution_count": 18,
     "metadata": {},
     "output_type": "execute_result"
    }
   ],
   "source": [
    "# apply both stemming and lemmatizing to df\n",
    "df['Body'] = df['Body'].apply(stemmer).apply(lemmatizer)\n",
    "df"
   ]
  },
  {
   "cell_type": "code",
   "execution_count": 40,
   "metadata": {},
   "outputs": [],
   "source": [
    "X = df.drop('Label', axis = 1)\n",
    "y = df['Label']\n",
    "X_train, X_test, y_train, y_test = train_test_split(X['Body'], y, random_state = 41)"
   ]
  },
  {
   "cell_type": "markdown",
   "metadata": {},
   "source": [
    "## Model selection/training\n",
    "I experimented with 3 different types of models - Logistic Regression, Naive Bayes, and Decision Trees GridSearchCV - and 2 types of vectorizers - Tfidf vectorizer and Count vectorizer. I used GridSearchCV for each combination to identify the best overall model and its best parameters. \n",
    "\n",
    "Also, I passed the scoring='f1' argument to each GridSearchCV object to provide a balance between precision and recall."
   ]
  },
  {
   "cell_type": "code",
   "execution_count": 41,
   "metadata": {},
   "outputs": [],
   "source": [
    "tfidf_params = {'tfidf__max_features': [100, 500, 1000, 2000, 5000, None], 'tfidf__stop_words': ['english', None]}\n",
    "\n",
    "cvect_params = {'cvect__max_features': [100, 500, 1000, 2000, 5000, None], 'cvect__stop_words': ['english', None]}"
   ]
  },
  {
   "cell_type": "code",
   "execution_count": 42,
   "metadata": {},
   "outputs": [],
   "source": [
    "tfidf_lgr_pipe = Pipeline([('tfidf', TfidfVectorizer()), ('lgr', LogisticRegression(max_iter=100000))])\n",
    "tfidf_lgr_grid = GridSearchCV(tfidf_lgr_pipe, param_grid = tfidf_params, scoring='f1').fit(X_train, y_train)\n",
    "tfidf_lgr_test_acc = tfidf_lgr_grid.score(X_test, y_test)\n"
   ]
  },
  {
   "cell_type": "code",
   "execution_count": 57,
   "metadata": {},
   "outputs": [
    {
     "name": "stdout",
     "output_type": "stream",
     "text": [
      "0.9211873080859775\n",
      "{'tfidf__max_features': 2000, 'tfidf__stop_words': None}\n"
     ]
    }
   ],
   "source": [
    "print(tfidf_lgr_test_acc)\n",
    "print(tfidf_lgr_grid.best_params_)"
   ]
  },
  {
   "cell_type": "code",
   "execution_count": 44,
   "metadata": {},
   "outputs": [],
   "source": [
    "cvect_lgr_pipe = Pipeline([('cvect', CountVectorizer()), ('lgr', LogisticRegression(max_iter=100000))])\n",
    "cvect_lgr_grid = GridSearchCV(cvect_lgr_pipe, param_grid = cvect_params, scoring='f1').fit(X_train, y_train)\n",
    "cvect_lgr_test_acc = cvect_lgr_grid.score(X_test, y_test)"
   ]
  },
  {
   "cell_type": "code",
   "execution_count": 58,
   "metadata": {},
   "outputs": [
    {
     "name": "stdout",
     "output_type": "stream",
     "text": [
      "0.9257028112449799\n",
      "{'cvect__max_features': 5000, 'cvect__stop_words': 'english'}\n"
     ]
    }
   ],
   "source": [
    "print(cvect_lgr_test_acc)\n",
    "print(cvect_lgr_grid.best_params_)"
   ]
  },
  {
   "cell_type": "code",
   "execution_count": 46,
   "metadata": {},
   "outputs": [],
   "source": [
    "tfidf_dtree_pipe = Pipeline([('tfidf', TfidfVectorizer()), ('dtree', DecisionTreeClassifier())])\n",
    "tfidf_dtree_grid = GridSearchCV(tfidf_dtree_pipe, param_grid = tfidf_params, scoring='f1').fit(X_train, y_train)\n",
    "tfidf_dtree_test_acc = tfidf_dtree_grid.score(X_test, y_test)"
   ]
  },
  {
   "cell_type": "code",
   "execution_count": 59,
   "metadata": {},
   "outputs": [
    {
     "name": "stdout",
     "output_type": "stream",
     "text": [
      "0.8679245283018868\n",
      "{'tfidf__max_features': 5000, 'tfidf__stop_words': None}\n"
     ]
    }
   ],
   "source": [
    "print(tfidf_dtree_test_acc)\n",
    "print(tfidf_dtree_grid.best_params_)"
   ]
  },
  {
   "cell_type": "code",
   "execution_count": 48,
   "metadata": {},
   "outputs": [],
   "source": [
    "cvect_dtree_pipe = Pipeline([('cvect', CountVectorizer()), ('dtree', DecisionTreeClassifier())])\n",
    "cvect_dtree_grid = GridSearchCV(cvect_dtree_pipe, param_grid = cvect_params, scoring='f1').fit(X_train, y_train)\n",
    "cvect_dtree_test_acc = cvect_dtree_grid.score(X_test, y_test)"
   ]
  },
  {
   "cell_type": "code",
   "execution_count": 49,
   "metadata": {},
   "outputs": [
    {
     "name": "stdout",
     "output_type": "stream",
     "text": [
      "0.8776541961577351\n",
      "{'cvect__max_features': None, 'cvect__stop_words': 'english'}\n"
     ]
    }
   ],
   "source": [
    "print(cvect_dtree_test_acc)\n",
    "print(cvect_dtree_grid.best_params_)"
   ]
  },
  {
   "cell_type": "code",
   "execution_count": 50,
   "metadata": {},
   "outputs": [],
   "source": [
    "tfidf_bayes_pipe = Pipeline([('tfidf', TfidfVectorizer()), ('bayes', MultinomialNB())])\n",
    "tfidf_bayes_grid = GridSearchCV(tfidf_bayes_pipe, param_grid = tfidf_params, scoring='f1').fit(X_train, y_train)\n",
    "tfidf_bayes_test_acc = tfidf_bayes_grid.score(X_test, y_test)"
   ]
  },
  {
   "cell_type": "code",
   "execution_count": 51,
   "metadata": {},
   "outputs": [
    {
     "name": "stdout",
     "output_type": "stream",
     "text": [
      "0.915736040609137\n",
      "{'tfidf__max_features': 2000, 'tfidf__stop_words': None}\n"
     ]
    }
   ],
   "source": [
    "print(tfidf_bayes_test_acc)\n",
    "print(tfidf_bayes_grid.best_params_)"
   ]
  },
  {
   "cell_type": "code",
   "execution_count": 52,
   "metadata": {},
   "outputs": [],
   "source": [
    "cvect_bayes_pipe = Pipeline([('cvect', CountVectorizer()), ('dtree', MultinomialNB())])\n",
    "cvect_bayes_grid = GridSearchCV(cvect_bayes_pipe, param_grid = cvect_params, scoring='f1').fit(X_train, y_train)\n",
    "cvect_bayes_test_acc = cvect_bayes_grid.score(X_test, y_test)"
   ]
  },
  {
   "cell_type": "code",
   "execution_count": 53,
   "metadata": {},
   "outputs": [
    {
     "name": "stdout",
     "output_type": "stream",
     "text": [
      "0.9271794871794872\n",
      "{'cvect__max_features': None, 'cvect__stop_words': None}\n"
     ]
    }
   ],
   "source": [
    "print(cvect_bayes_test_acc)\n",
    "print(cvect_bayes_grid.best_params_)"
   ]
  },
  {
   "cell_type": "markdown",
   "metadata": {},
   "source": [
    "After this testing, the MultinomialNB classifier with the Count Vectorizer seems to be the best option."
   ]
  },
  {
   "cell_type": "code",
   "execution_count": 60,
   "metadata": {},
   "outputs": [
    {
     "data": {
      "image/png": "[encoded data removed]",
      "text/plain": [
       "<Figure size 432x288 with 2 Axes>"
      ]
     },
     "metadata": {
      "needs_background": "light"
     },
     "output_type": "display_data"
    }
   ],
   "source": [
    "cm = confusion_matrix(y_test, cvect_bayes_grid.predict(X_test))\n",
    "\n",
    "class_labels = ['Not Spam', 'Spam']\n",
    "\n",
    "sns.heatmap(cm, annot=True, cmap='Blues', fmt='g', xticklabels=class_labels, yticklabels=class_labels)\n",
    "plt.xlabel('Predicted labels')\n",
    "plt.ylabel('True labels')\n",
    "plt.title('Confusion Matrix')\n",
    "plt.show()"
   ]
  },
  {
   "cell_type": "markdown",
   "metadata": {},
   "source": [
    "As seen in the confusion matrix, the model does a good job classifying spam from nonspam. Of the 1010 emails predicted to be not spam, 989 of them were actually not spam. The model predicted 502 emails in the test dataset were spam, and 452 of those were correctly identified as spam."
   ]
  },
  {
   "cell_type": "code",
   "execution_count": null,
   "metadata": {},
   "outputs": [],
   "source": []
  }
 ],
 "metadata": {
  "kernelspec": {
   "display_name": "Python 3",
   "language": "python",
   "name": "python3"
  },
  "language_info": {
   "codemirror_mode": {
    "name": "ipython",
    "version": 3
   },
   "file_extension": ".py",
   "mimetype": "text/x-python",
   "name": "python",
   "nbconvert_exporter": "python",
   "pygments_lexer": "ipython3",
   "version": "3.8.5"
  }
 },
 "nbformat": 4,
 "nbformat_minor": 4
}
